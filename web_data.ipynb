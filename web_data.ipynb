{
 "cells": [
  {
   "cell_type": "code",
   "execution_count": 2,
   "id": "23a34797",
   "metadata": {},
   "outputs": [],
   "source": [
    "import bs4\n",
    "import pandas as pd"
   ]
  },
  {
   "cell_type": "code",
   "execution_count": 1,
   "id": "f581044f",
   "metadata": {},
   "outputs": [],
   "source": [
    "import html5lib"
   ]
  },
  {
   "cell_type": "code",
   "execution_count": 3,
   "id": "1edc4992",
   "metadata": {
    "scrolled": true
   },
   "outputs": [
    {
     "name": "stdout",
     "output_type": "stream",
     "text": [
      "Requirement already satisfied: lxml in /usr/local/Cellar/jupyterlab/3.3.2/libexec/lib/python3.9/site-packages (4.9.1)\n",
      "\u001b[33mWARNING: You are using pip version 21.3.1; however, version 22.2.2 is available.\n",
      "You should consider upgrading via the '/usr/local/Cellar/jupyterlab/3.3.2/libexec/bin/python3.9 -m pip install --upgrade pip' command.\u001b[0m\n",
      "Note: you may need to restart the kernel to use updated packages.\n"
     ]
    }
   ],
   "source": [
    "pip install lxml"
   ]
  },
  {
   "cell_type": "code",
   "execution_count": 4,
   "id": "b8375e63",
   "metadata": {},
   "outputs": [],
   "source": [
    "URL='https://de.wikipedia.org/wiki/Berlin_Station'"
   ]
  },
  {
   "cell_type": "code",
   "execution_count": 13,
   "id": "a762bb9b",
   "metadata": {},
   "outputs": [
    {
     "data": {
      "text/plain": [
       "[   Nr. (ges.)  Nr. (St.)    Deutscher Titel               Original­titel  \\\n",
       " 0           1          1  Auftrag in Berlin           Station to Station   \n",
       " 1           2          2    Flug in den Tod  Lights Don’t Run on Loyalty   \n",
       " 2           3          3         Abserviert                 Riverrun Dry   \n",
       " 3           4          4   Eine alte Schuld          By Way of Deception   \n",
       " 4           5          5        Unter Druck                  Unter Druck   \n",
       " 5           6          6  Die Qual der Wahl               Just Decisions   \n",
       " 6           7          7        Die Intrige                Proof of Life   \n",
       " 7           8          8         Das Verhör               False Negative   \n",
       " 8           9          9        Thomas Shaw                  Thomas Shaw   \n",
       " 9          10         10  Berlin Endstation              Oratorio Berlin   \n",
       " \n",
       "   Erstaus­strahlung USA Deutsch­sprachige Erstaus­strahlung (D/A/CH)  \\\n",
       " 0         16. Okt. 2016                                18. Juli 2017   \n",
       " 1         23. Okt. 2016                                18. Juli 2017   \n",
       " 2         30. Okt. 2016                                18. Juli 2017   \n",
       " 3          6. Nov. 2016                                18. Juli 2017   \n",
       " 4         13. Nov. 2016                                18. Juli 2017   \n",
       " 5         20. Nov. 2016                                18. Juli 2017   \n",
       " 6         27. Nov. 2016                                18. Juli 2017   \n",
       " 7          4. Dez. 2016                                18. Juli 2017   \n",
       " 8         11. Dez. 2016                                18. Juli 2017   \n",
       " 9         18. Dez. 2016                                18. Juli 2017   \n",
       " \n",
       "                 Regie            Drehbuch  \n",
       " 0   Michaël R. Roskam     Olen Steinhauer  \n",
       " 1   Michaël R. Roskam     Olen Steinhauer  \n",
       " 2   Christoph Schrewe    Bradford Winters  \n",
       " 3   Christoph Schrewe      Larry J. Cohen  \n",
       " 4  Giuseppe Capotondi  Amanda Kate Shuman  \n",
       " 5  Giuseppe Capotondi     Olen Steinhauer  \n",
       " 6    John David Coles          Adria Lang  \n",
       " 7    John David Coles     Kyle Bradstreet  \n",
       " 8      Joshua Marston    Bradford Winters  \n",
       " 9      Joshua Marston     Olen Steinhauer  ,\n",
       "    Nr. (ges.)  Nr. (St.)                   Deutscher Titel  \\\n",
       " 0          11          1              Alles wird Alt-Right   \n",
       " 1          12          2           Raketen für den Vatikan   \n",
       " 2          13          3                   Direkt ins Herz   \n",
       " 3          14          4                  Das Richtige tun   \n",
       " 4          15          5                      Right of Way   \n",
       " 5          16          6                        Høyre Hook   \n",
       " 6          17          7               Richtig oder Falsch   \n",
       " 7          18          8                      Der Gerechte   \n",
       " 8          19          9  Der Gewinner schreibt Geschichte   \n",
       " \n",
       "                     Original­titel Erstaus­strahlung USA  \\\n",
       " 0  Everything’s Gonna Be Alt-Right         15. Okt. 2017   \n",
       " 1            Right Here, Right Now         15. Okt. 2017   \n",
       " 2               Right to the Heart         22. Okt. 2017   \n",
       " 3               Do the Right Thing         29. Okt. 2017   \n",
       " 4                     Right of Way          5. Nov. 2017   \n",
       " 5                   The Right Hook         12. Nov. 2017   \n",
       " 6                  Right and Wrong         19. Nov. 2017   \n",
       " 7                The Righteous One         26. Nov. 2017   \n",
       " 8  Winners Right the History Books          3. Dez. 2017   \n",
       " \n",
       "   Deutsch­sprachige Erstaus­strahlung (D/A/CH)               Regie  \\\n",
       " 0                                17. Okt. 2017   Christoph Schrewe   \n",
       " 1                                17. Okt. 2017    John David Coles   \n",
       " 2                                17. Okt. 2017    John David Coles   \n",
       " 3                                17. Okt. 2017      Bronwen Hughes   \n",
       " 4                                17. Okt. 2017      Bronwen Hughes   \n",
       " 5                                17. Okt. 2017  Sarah Pia Anderson   \n",
       " 6                                17. Okt. 2017  Sarah Pia Anderson   \n",
       " 7                                17. Okt. 2017  Giuseppe Capotondi   \n",
       " 8                                17. Okt. 2017  Giuseppe Capotondi   \n",
       " \n",
       "                               Drehbuch  \n",
       " 0  Tony Basgallop und Bradford Winters  \n",
       " 1                       Tony Basgallop  \n",
       " 2                   Kiersten Van Horne  \n",
       " 3                       Larry J. Cohen  \n",
       " 4                         Lara Shapiro  \n",
       " 5   Nina Braddock und Bradford Winters  \n",
       " 6                          Zach Craley  \n",
       " 7                       Tony Basgallop  \n",
       " 8                     Bradford Winters  ,\n",
       "    Nr. (ges.)  Nr. (St.)                               Deutscher Titel  \\\n",
       " 0          20          1                         Aut Concilio Aut Ense   \n",
       " 1          21          2                       Feuer kennt keine Gnade   \n",
       " 2          22          3                                 Die alte Lüge   \n",
       " 3          23          4                Wer flucht, fängt keine Fische   \n",
       " 4          24          5             Der Traum von den vier Polizisten   \n",
       " 5          25          6                                Eiskalte Hölle   \n",
       " 6          26          7  Das Auge will nicht wahr haben, was es sieht   \n",
       " 7          27          8                             Die grüne Datscha   \n",
       " 8          28          9                                    Kriegsende   \n",
       " 9          29         10                           Buch der Gefallenen   \n",
       " \n",
       "                          Original­titel Erstaus­strahlung USA  \\\n",
       " 0                 Aut Concilio Aut Ense          2. Dez. 2018   \n",
       " 1           Fire Knows Nothing of Mercy          2. Dez. 2018   \n",
       " 2                           The Old Lie         17. Dez. 2018   \n",
       " 3    If You Swear, You’ll Catch No Fish         24. Dez. 2018   \n",
       " 4       The Dream of the Four Policemen          6. Jan. 2019   \n",
       " 5                          In Cold Hell         13. Jan. 2019   \n",
       " 6  The Eye Fears When It Is Done to See         20. Jan. 2019   \n",
       " 7                       The Green Dacha         27. Jan. 2019   \n",
       " 8                            End of War         10. Feb. 2019   \n",
       " 9                    Book of the Fallen         17. Feb. 2019   \n",
       " \n",
       "   Deutsch­sprachige Erstaus­strahlung (D/A/CH)              Regie  \\\n",
       " 0                                 8. Dez. 2018  Christoph Schrewe   \n",
       " 1                                 8. Dez. 2018  Christoph Schrewe   \n",
       " 2                                 8. Dez. 2018     Bronwen Hughes   \n",
       " 3                                 8. Dez. 2018     Bronwen Hughes   \n",
       " 4                                 8. Dez. 2018    Hagen Bogdanski   \n",
       " 5                                 8. Dez. 2018  Christoph Schrewe   \n",
       " 6                                 8. Dez. 2018     Tanya Hamilton   \n",
       " 7                                 8. Dez. 2018     Tanya Hamilton   \n",
       " 8                                 8. Dez. 2018         Marc Jobst   \n",
       " 9                                 8. Dez. 2018         Marc Jobst   \n",
       " \n",
       "            Drehbuch  \n",
       " 0    Jason Horwitch  \n",
       " 1   Jill Blotevogel  \n",
       " 2        HSM Resnik  \n",
       " 3  Jennifer Kennedy  \n",
       " 4         Sara Gran  \n",
       " 5  Morenike Balogun  \n",
       " 6       Zach Craley  \n",
       " 7  Jennifer Kennedy  \n",
       " 8   Jill Blotevogel  \n",
       " 9    Jason Horwitch  ]"
      ]
     },
     "execution_count": 13,
     "metadata": {},
     "output_type": "execute_result"
    }
   ],
   "source": [
    "data = pd.read_html(URL, attrs = {\"class\": \"wikitable toptextcells\"}) \n",
    "data"
   ]
  },
  {
   "cell_type": "code",
   "execution_count": 15,
   "id": "dca920e2",
   "metadata": {},
   "outputs": [
    {
     "data": {
      "text/plain": [
       "3"
      ]
     },
     "execution_count": 15,
     "metadata": {},
     "output_type": "execute_result"
    }
   ],
   "source": [
    "len(data)"
   ]
  },
  {
   "cell_type": "code",
   "execution_count": 24,
   "id": "b2ade9ae",
   "metadata": {},
   "outputs": [],
   "source": [
    "data=data[0]"
   ]
  },
  {
   "cell_type": "code",
   "execution_count": 25,
   "id": "cf7a0ada",
   "metadata": {
    "scrolled": true
   },
   "outputs": [
    {
     "data": {
      "text/plain": [
       "pandas.core.frame.DataFrame"
      ]
     },
     "execution_count": 25,
     "metadata": {},
     "output_type": "execute_result"
    }
   ],
   "source": [
    "type(data)"
   ]
  },
  {
   "cell_type": "code",
   "execution_count": 26,
   "id": "a8e50c59",
   "metadata": {},
   "outputs": [],
   "source": [
    "df=data"
   ]
  },
  {
   "cell_type": "code",
   "execution_count": 28,
   "id": "5adf8b5e",
   "metadata": {},
   "outputs": [
    {
     "data": {
      "text/html": [
       "<div>\n",
       "<style scoped>\n",
       "    .dataframe tbody tr th:only-of-type {\n",
       "        vertical-align: middle;\n",
       "    }\n",
       "\n",
       "    .dataframe tbody tr th {\n",
       "        vertical-align: top;\n",
       "    }\n",
       "\n",
       "    .dataframe thead th {\n",
       "        text-align: right;\n",
       "    }\n",
       "</style>\n",
       "<table border=\"1\" class=\"dataframe\">\n",
       "  <thead>\n",
       "    <tr style=\"text-align: right;\">\n",
       "      <th></th>\n",
       "      <th>Nr. (ges.)</th>\n",
       "      <th>Nr. (St.)</th>\n",
       "      <th>Deutscher Titel</th>\n",
       "      <th>Original­titel</th>\n",
       "      <th>Erstaus­strahlung USA</th>\n",
       "      <th>Deutsch­sprachige Erstaus­strahlung (D/A/CH)</th>\n",
       "      <th>Regie</th>\n",
       "      <th>Drehbuch</th>\n",
       "    </tr>\n",
       "  </thead>\n",
       "  <tbody>\n",
       "    <tr>\n",
       "      <th>0</th>\n",
       "      <td>1</td>\n",
       "      <td>1</td>\n",
       "      <td>Auftrag in Berlin</td>\n",
       "      <td>Station to Station</td>\n",
       "      <td>16. Okt. 2016</td>\n",
       "      <td>18. Juli 2017</td>\n",
       "      <td>Michaël R. Roskam</td>\n",
       "      <td>Olen Steinhauer</td>\n",
       "    </tr>\n",
       "    <tr>\n",
       "      <th>1</th>\n",
       "      <td>2</td>\n",
       "      <td>2</td>\n",
       "      <td>Flug in den Tod</td>\n",
       "      <td>Lights Don’t Run on Loyalty</td>\n",
       "      <td>23. Okt. 2016</td>\n",
       "      <td>18. Juli 2017</td>\n",
       "      <td>Michaël R. Roskam</td>\n",
       "      <td>Olen Steinhauer</td>\n",
       "    </tr>\n",
       "    <tr>\n",
       "      <th>2</th>\n",
       "      <td>3</td>\n",
       "      <td>3</td>\n",
       "      <td>Abserviert</td>\n",
       "      <td>Riverrun Dry</td>\n",
       "      <td>30. Okt. 2016</td>\n",
       "      <td>18. Juli 2017</td>\n",
       "      <td>Christoph Schrewe</td>\n",
       "      <td>Bradford Winters</td>\n",
       "    </tr>\n",
       "    <tr>\n",
       "      <th>3</th>\n",
       "      <td>4</td>\n",
       "      <td>4</td>\n",
       "      <td>Eine alte Schuld</td>\n",
       "      <td>By Way of Deception</td>\n",
       "      <td>6. Nov. 2016</td>\n",
       "      <td>18. Juli 2017</td>\n",
       "      <td>Christoph Schrewe</td>\n",
       "      <td>Larry J. Cohen</td>\n",
       "    </tr>\n",
       "    <tr>\n",
       "      <th>4</th>\n",
       "      <td>5</td>\n",
       "      <td>5</td>\n",
       "      <td>Unter Druck</td>\n",
       "      <td>Unter Druck</td>\n",
       "      <td>13. Nov. 2016</td>\n",
       "      <td>18. Juli 2017</td>\n",
       "      <td>Giuseppe Capotondi</td>\n",
       "      <td>Amanda Kate Shuman</td>\n",
       "    </tr>\n",
       "    <tr>\n",
       "      <th>5</th>\n",
       "      <td>6</td>\n",
       "      <td>6</td>\n",
       "      <td>Die Qual der Wahl</td>\n",
       "      <td>Just Decisions</td>\n",
       "      <td>20. Nov. 2016</td>\n",
       "      <td>18. Juli 2017</td>\n",
       "      <td>Giuseppe Capotondi</td>\n",
       "      <td>Olen Steinhauer</td>\n",
       "    </tr>\n",
       "    <tr>\n",
       "      <th>6</th>\n",
       "      <td>7</td>\n",
       "      <td>7</td>\n",
       "      <td>Die Intrige</td>\n",
       "      <td>Proof of Life</td>\n",
       "      <td>27. Nov. 2016</td>\n",
       "      <td>18. Juli 2017</td>\n",
       "      <td>John David Coles</td>\n",
       "      <td>Adria Lang</td>\n",
       "    </tr>\n",
       "    <tr>\n",
       "      <th>7</th>\n",
       "      <td>8</td>\n",
       "      <td>8</td>\n",
       "      <td>Das Verhör</td>\n",
       "      <td>False Negative</td>\n",
       "      <td>4. Dez. 2016</td>\n",
       "      <td>18. Juli 2017</td>\n",
       "      <td>John David Coles</td>\n",
       "      <td>Kyle Bradstreet</td>\n",
       "    </tr>\n",
       "    <tr>\n",
       "      <th>8</th>\n",
       "      <td>9</td>\n",
       "      <td>9</td>\n",
       "      <td>Thomas Shaw</td>\n",
       "      <td>Thomas Shaw</td>\n",
       "      <td>11. Dez. 2016</td>\n",
       "      <td>18. Juli 2017</td>\n",
       "      <td>Joshua Marston</td>\n",
       "      <td>Bradford Winters</td>\n",
       "    </tr>\n",
       "    <tr>\n",
       "      <th>9</th>\n",
       "      <td>10</td>\n",
       "      <td>10</td>\n",
       "      <td>Berlin Endstation</td>\n",
       "      <td>Oratorio Berlin</td>\n",
       "      <td>18. Dez. 2016</td>\n",
       "      <td>18. Juli 2017</td>\n",
       "      <td>Joshua Marston</td>\n",
       "      <td>Olen Steinhauer</td>\n",
       "    </tr>\n",
       "  </tbody>\n",
       "</table>\n",
       "</div>"
      ],
      "text/plain": [
       "   Nr. (ges.)  Nr. (St.)    Deutscher Titel               Original­titel  \\\n",
       "0           1          1  Auftrag in Berlin           Station to Station   \n",
       "1           2          2    Flug in den Tod  Lights Don’t Run on Loyalty   \n",
       "2           3          3         Abserviert                 Riverrun Dry   \n",
       "3           4          4   Eine alte Schuld          By Way of Deception   \n",
       "4           5          5        Unter Druck                  Unter Druck   \n",
       "5           6          6  Die Qual der Wahl               Just Decisions   \n",
       "6           7          7        Die Intrige                Proof of Life   \n",
       "7           8          8         Das Verhör               False Negative   \n",
       "8           9          9        Thomas Shaw                  Thomas Shaw   \n",
       "9          10         10  Berlin Endstation              Oratorio Berlin   \n",
       "\n",
       "  Erstaus­strahlung USA Deutsch­sprachige Erstaus­strahlung (D/A/CH)  \\\n",
       "0         16. Okt. 2016                                18. Juli 2017   \n",
       "1         23. Okt. 2016                                18. Juli 2017   \n",
       "2         30. Okt. 2016                                18. Juli 2017   \n",
       "3          6. Nov. 2016                                18. Juli 2017   \n",
       "4         13. Nov. 2016                                18. Juli 2017   \n",
       "5         20. Nov. 2016                                18. Juli 2017   \n",
       "6         27. Nov. 2016                                18. Juli 2017   \n",
       "7          4. Dez. 2016                                18. Juli 2017   \n",
       "8         11. Dez. 2016                                18. Juli 2017   \n",
       "9         18. Dez. 2016                                18. Juli 2017   \n",
       "\n",
       "                Regie            Drehbuch  \n",
       "0   Michaël R. Roskam     Olen Steinhauer  \n",
       "1   Michaël R. Roskam     Olen Steinhauer  \n",
       "2   Christoph Schrewe    Bradford Winters  \n",
       "3   Christoph Schrewe      Larry J. Cohen  \n",
       "4  Giuseppe Capotondi  Amanda Kate Shuman  \n",
       "5  Giuseppe Capotondi     Olen Steinhauer  \n",
       "6    John David Coles          Adria Lang  \n",
       "7    John David Coles     Kyle Bradstreet  \n",
       "8      Joshua Marston    Bradford Winters  \n",
       "9      Joshua Marston     Olen Steinhauer  "
      ]
     },
     "execution_count": 28,
     "metadata": {},
     "output_type": "execute_result"
    }
   ],
   "source": [
    "df"
   ]
  },
  {
   "cell_type": "code",
   "execution_count": 31,
   "id": "6ecd99f1",
   "metadata": {},
   "outputs": [],
   "source": [
    "df_agg=df.pivot_table(index=['Regie'],values='Deutscher Titel',aggfunc='count')"
   ]
  },
  {
   "cell_type": "code",
   "execution_count": 33,
   "id": "434a5f30",
   "metadata": {
    "scrolled": true
   },
   "outputs": [
    {
     "data": {
      "text/html": [
       "<div>\n",
       "<style scoped>\n",
       "    .dataframe tbody tr th:only-of-type {\n",
       "        vertical-align: middle;\n",
       "    }\n",
       "\n",
       "    .dataframe tbody tr th {\n",
       "        vertical-align: top;\n",
       "    }\n",
       "\n",
       "    .dataframe thead th {\n",
       "        text-align: right;\n",
       "    }\n",
       "</style>\n",
       "<table border=\"1\" class=\"dataframe\">\n",
       "  <thead>\n",
       "    <tr style=\"text-align: right;\">\n",
       "      <th></th>\n",
       "      <th>Deutscher Titel</th>\n",
       "    </tr>\n",
       "    <tr>\n",
       "      <th>Regie</th>\n",
       "      <th></th>\n",
       "    </tr>\n",
       "  </thead>\n",
       "  <tbody>\n",
       "    <tr>\n",
       "      <th>Christoph Schrewe</th>\n",
       "      <td>2</td>\n",
       "    </tr>\n",
       "    <tr>\n",
       "      <th>Giuseppe Capotondi</th>\n",
       "      <td>2</td>\n",
       "    </tr>\n",
       "    <tr>\n",
       "      <th>John David Coles</th>\n",
       "      <td>2</td>\n",
       "    </tr>\n",
       "    <tr>\n",
       "      <th>Joshua Marston</th>\n",
       "      <td>2</td>\n",
       "    </tr>\n",
       "    <tr>\n",
       "      <th>Michaël R. Roskam</th>\n",
       "      <td>2</td>\n",
       "    </tr>\n",
       "  </tbody>\n",
       "</table>\n",
       "</div>"
      ],
      "text/plain": [
       "                    Deutscher Titel\n",
       "Regie                              \n",
       "Christoph Schrewe                 2\n",
       "Giuseppe Capotondi                2\n",
       "John David Coles                  2\n",
       "Joshua Marston                    2\n",
       "Michaël R. Roskam                 2"
      ]
     },
     "execution_count": 33,
     "metadata": {},
     "output_type": "execute_result"
    }
   ],
   "source": [
    "df_agg"
   ]
  },
  {
   "cell_type": "code",
   "execution_count": 38,
   "id": "d1da5093",
   "metadata": {
    "scrolled": true
   },
   "outputs": [
    {
     "data": {
      "text/html": [
       "<div>\n",
       "<style scoped>\n",
       "    .dataframe tbody tr th:only-of-type {\n",
       "        vertical-align: middle;\n",
       "    }\n",
       "\n",
       "    .dataframe tbody tr th {\n",
       "        vertical-align: top;\n",
       "    }\n",
       "\n",
       "    .dataframe thead th {\n",
       "        text-align: right;\n",
       "    }\n",
       "</style>\n",
       "<table border=\"1\" class=\"dataframe\">\n",
       "  <thead>\n",
       "    <tr style=\"text-align: right;\">\n",
       "      <th></th>\n",
       "      <th>Deutscher Titel</th>\n",
       "    </tr>\n",
       "    <tr>\n",
       "      <th>Regie</th>\n",
       "      <th></th>\n",
       "    </tr>\n",
       "  </thead>\n",
       "  <tbody>\n",
       "    <tr>\n",
       "      <th>Michaël R. Roskam</th>\n",
       "      <td>2</td>\n",
       "    </tr>\n",
       "    <tr>\n",
       "      <th>Joshua Marston</th>\n",
       "      <td>2</td>\n",
       "    </tr>\n",
       "    <tr>\n",
       "      <th>John David Coles</th>\n",
       "      <td>2</td>\n",
       "    </tr>\n",
       "    <tr>\n",
       "      <th>Giuseppe Capotondi</th>\n",
       "      <td>2</td>\n",
       "    </tr>\n",
       "    <tr>\n",
       "      <th>Christoph Schrewe</th>\n",
       "      <td>2</td>\n",
       "    </tr>\n",
       "  </tbody>\n",
       "</table>\n",
       "</div>"
      ],
      "text/plain": [
       "                    Deutscher Titel\n",
       "Regie                              \n",
       "Michaël R. Roskam                 2\n",
       "Joshua Marston                    2\n",
       "John David Coles                  2\n",
       "Giuseppe Capotondi                2\n",
       "Christoph Schrewe                 2"
      ]
     },
     "execution_count": 38,
     "metadata": {},
     "output_type": "execute_result"
    }
   ],
   "source": [
    "df_agg.sort_values(['Regie'],ascending=False)"
   ]
  },
  {
   "cell_type": "code",
   "execution_count": 46,
   "id": "40eb8f4b",
   "metadata": {},
   "outputs": [],
   "source": [
    "df_agg_new=df.pivot_table(index=['Regie'],values='Nr. (St.)',aggfunc='sum')"
   ]
  },
  {
   "cell_type": "code",
   "execution_count": 47,
   "id": "6030956e",
   "metadata": {
    "scrolled": true
   },
   "outputs": [
    {
     "data": {
      "text/html": [
       "<div>\n",
       "<style scoped>\n",
       "    .dataframe tbody tr th:only-of-type {\n",
       "        vertical-align: middle;\n",
       "    }\n",
       "\n",
       "    .dataframe tbody tr th {\n",
       "        vertical-align: top;\n",
       "    }\n",
       "\n",
       "    .dataframe thead th {\n",
       "        text-align: right;\n",
       "    }\n",
       "</style>\n",
       "<table border=\"1\" class=\"dataframe\">\n",
       "  <thead>\n",
       "    <tr style=\"text-align: right;\">\n",
       "      <th></th>\n",
       "      <th>Nr. (St.)</th>\n",
       "    </tr>\n",
       "    <tr>\n",
       "      <th>Regie</th>\n",
       "      <th></th>\n",
       "    </tr>\n",
       "  </thead>\n",
       "  <tbody>\n",
       "    <tr>\n",
       "      <th>Christoph Schrewe</th>\n",
       "      <td>7</td>\n",
       "    </tr>\n",
       "    <tr>\n",
       "      <th>Giuseppe Capotondi</th>\n",
       "      <td>11</td>\n",
       "    </tr>\n",
       "    <tr>\n",
       "      <th>John David Coles</th>\n",
       "      <td>15</td>\n",
       "    </tr>\n",
       "    <tr>\n",
       "      <th>Joshua Marston</th>\n",
       "      <td>19</td>\n",
       "    </tr>\n",
       "    <tr>\n",
       "      <th>Michaël R. Roskam</th>\n",
       "      <td>3</td>\n",
       "    </tr>\n",
       "  </tbody>\n",
       "</table>\n",
       "</div>"
      ],
      "text/plain": [
       "                    Nr. (St.)\n",
       "Regie                        \n",
       "Christoph Schrewe           7\n",
       "Giuseppe Capotondi         11\n",
       "John David Coles           15\n",
       "Joshua Marston             19\n",
       "Michaël R. Roskam           3"
      ]
     },
     "execution_count": 47,
     "metadata": {},
     "output_type": "execute_result"
    }
   ],
   "source": [
    "df_agg_new"
   ]
  },
  {
   "cell_type": "code",
   "execution_count": 49,
   "id": "bfe2cd51",
   "metadata": {},
   "outputs": [
    {
     "data": {
      "text/plain": [
       "Index(['Christoph Schrewe', 'Giuseppe Capotondi', 'John David Coles',\n",
       "       'Joshua Marston', 'Michaël R. Roskam'],\n",
       "      dtype='object', name='Regie')"
      ]
     },
     "execution_count": 49,
     "metadata": {},
     "output_type": "execute_result"
    }
   ],
   "source": [
    "df_agg.index"
   ]
  },
  {
   "cell_type": "code",
   "execution_count": 48,
   "id": "3b3cb420",
   "metadata": {},
   "outputs": [
    {
     "ename": "KeyError",
     "evalue": "'Nr. (St.)'",
     "output_type": "error",
     "traceback": [
      "\u001b[0;31m---------------------------------------------------------------------------\u001b[0m",
      "\u001b[0;31mKeyError\u001b[0m                                  Traceback (most recent call last)",
      "File \u001b[0;32m~/Library/Python/3.9/lib/python/site-packages/pandas/core/indexes/base.py:3361\u001b[0m, in \u001b[0;36mIndex.get_loc\u001b[0;34m(self, key, method, tolerance)\u001b[0m\n\u001b[1;32m   3360\u001b[0m \u001b[38;5;28;01mtry\u001b[39;00m:\n\u001b[0;32m-> 3361\u001b[0m     \u001b[38;5;28;01mreturn\u001b[39;00m \u001b[38;5;28;43mself\u001b[39;49m\u001b[38;5;241;43m.\u001b[39;49m\u001b[43m_engine\u001b[49m\u001b[38;5;241;43m.\u001b[39;49m\u001b[43mget_loc\u001b[49m\u001b[43m(\u001b[49m\u001b[43mcasted_key\u001b[49m\u001b[43m)\u001b[49m\n\u001b[1;32m   3362\u001b[0m \u001b[38;5;28;01mexcept\u001b[39;00m \u001b[38;5;167;01mKeyError\u001b[39;00m \u001b[38;5;28;01mas\u001b[39;00m err:\n",
      "File \u001b[0;32m~/Library/Python/3.9/lib/python/site-packages/pandas/_libs/index.pyx:76\u001b[0m, in \u001b[0;36mpandas._libs.index.IndexEngine.get_loc\u001b[0;34m()\u001b[0m\n",
      "File \u001b[0;32m~/Library/Python/3.9/lib/python/site-packages/pandas/_libs/index.pyx:108\u001b[0m, in \u001b[0;36mpandas._libs.index.IndexEngine.get_loc\u001b[0;34m()\u001b[0m\n",
      "File \u001b[0;32mpandas/_libs/hashtable_class_helper.pxi:5198\u001b[0m, in \u001b[0;36mpandas._libs.hashtable.PyObjectHashTable.get_item\u001b[0;34m()\u001b[0m\n",
      "File \u001b[0;32mpandas/_libs/hashtable_class_helper.pxi:5206\u001b[0m, in \u001b[0;36mpandas._libs.hashtable.PyObjectHashTable.get_item\u001b[0;34m()\u001b[0m\n",
      "\u001b[0;31mKeyError\u001b[0m: 'Nr. (St.)'",
      "\nThe above exception was the direct cause of the following exception:\n",
      "\u001b[0;31mKeyError\u001b[0m                                  Traceback (most recent call last)",
      "Input \u001b[0;32mIn [48]\u001b[0m, in \u001b[0;36m<cell line: 1>\u001b[0;34m()\u001b[0m\n\u001b[0;32m----> 1\u001b[0m df_agg[\u001b[43mdf_agg\u001b[49m\u001b[43m[\u001b[49m\u001b[38;5;124;43m'\u001b[39;49m\u001b[38;5;124;43mNr. (St.)\u001b[39;49m\u001b[38;5;124;43m'\u001b[39;49m\u001b[43m]\u001b[49m\u001b[38;5;241m>\u001b[39m\u001b[38;5;241m7\u001b[39m]\n",
      "File \u001b[0;32m~/Library/Python/3.9/lib/python/site-packages/pandas/core/frame.py:3458\u001b[0m, in \u001b[0;36mDataFrame.__getitem__\u001b[0;34m(self, key)\u001b[0m\n\u001b[1;32m   3456\u001b[0m \u001b[38;5;28;01mif\u001b[39;00m \u001b[38;5;28mself\u001b[39m\u001b[38;5;241m.\u001b[39mcolumns\u001b[38;5;241m.\u001b[39mnlevels \u001b[38;5;241m>\u001b[39m \u001b[38;5;241m1\u001b[39m:\n\u001b[1;32m   3457\u001b[0m     \u001b[38;5;28;01mreturn\u001b[39;00m \u001b[38;5;28mself\u001b[39m\u001b[38;5;241m.\u001b[39m_getitem_multilevel(key)\n\u001b[0;32m-> 3458\u001b[0m indexer \u001b[38;5;241m=\u001b[39m \u001b[38;5;28;43mself\u001b[39;49m\u001b[38;5;241;43m.\u001b[39;49m\u001b[43mcolumns\u001b[49m\u001b[38;5;241;43m.\u001b[39;49m\u001b[43mget_loc\u001b[49m\u001b[43m(\u001b[49m\u001b[43mkey\u001b[49m\u001b[43m)\u001b[49m\n\u001b[1;32m   3459\u001b[0m \u001b[38;5;28;01mif\u001b[39;00m is_integer(indexer):\n\u001b[1;32m   3460\u001b[0m     indexer \u001b[38;5;241m=\u001b[39m [indexer]\n",
      "File \u001b[0;32m~/Library/Python/3.9/lib/python/site-packages/pandas/core/indexes/base.py:3363\u001b[0m, in \u001b[0;36mIndex.get_loc\u001b[0;34m(self, key, method, tolerance)\u001b[0m\n\u001b[1;32m   3361\u001b[0m         \u001b[38;5;28;01mreturn\u001b[39;00m \u001b[38;5;28mself\u001b[39m\u001b[38;5;241m.\u001b[39m_engine\u001b[38;5;241m.\u001b[39mget_loc(casted_key)\n\u001b[1;32m   3362\u001b[0m     \u001b[38;5;28;01mexcept\u001b[39;00m \u001b[38;5;167;01mKeyError\u001b[39;00m \u001b[38;5;28;01mas\u001b[39;00m err:\n\u001b[0;32m-> 3363\u001b[0m         \u001b[38;5;28;01mraise\u001b[39;00m \u001b[38;5;167;01mKeyError\u001b[39;00m(key) \u001b[38;5;28;01mfrom\u001b[39;00m \u001b[38;5;21;01merr\u001b[39;00m\n\u001b[1;32m   3365\u001b[0m \u001b[38;5;28;01mif\u001b[39;00m is_scalar(key) \u001b[38;5;129;01mand\u001b[39;00m isna(key) \u001b[38;5;129;01mand\u001b[39;00m \u001b[38;5;129;01mnot\u001b[39;00m \u001b[38;5;28mself\u001b[39m\u001b[38;5;241m.\u001b[39mhasnans:\n\u001b[1;32m   3366\u001b[0m     \u001b[38;5;28;01mraise\u001b[39;00m \u001b[38;5;167;01mKeyError\u001b[39;00m(key)\n",
      "\u001b[0;31mKeyError\u001b[0m: 'Nr. (St.)'"
     ]
    }
   ],
   "source": [
    "df_agg[df_agg['Nr. (St.)']>7]"
   ]
  }
 ],
 "metadata": {
  "kernelspec": {
   "display_name": "Python 3 (ipykernel)",
   "language": "python",
   "name": "python3"
  },
  "language_info": {
   "codemirror_mode": {
    "name": "ipython",
    "version": 3
   },
   "file_extension": ".py",
   "mimetype": "text/x-python",
   "name": "python",
   "nbconvert_exporter": "python",
   "pygments_lexer": "ipython3",
   "version": "3.9.12"
  }
 },
 "nbformat": 4,
 "nbformat_minor": 5
}
