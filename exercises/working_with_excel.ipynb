{
 "cells": [
  {
   "cell_type": "code",
   "execution_count": 8,
   "id": "bda69182",
   "metadata": {},
   "outputs": [
    {
     "name": "stdout",
     "output_type": "stream",
     "text": [
      "Requirement already satisfied: openpyxl in /usr/local/Cellar/jupyterlab/3.3.2/libexec/lib/python3.9/site-packages (3.0.10)\n",
      "Requirement already satisfied: et-xmlfile in /usr/local/Cellar/jupyterlab/3.3.2/libexec/lib/python3.9/site-packages (from openpyxl) (1.1.0)\n",
      "\u001b[33mWARNING: You are using pip version 21.3.1; however, version 22.2.2 is available.\n",
      "You should consider upgrading via the '/usr/local/Cellar/jupyterlab/3.3.2/libexec/bin/python3.9 -m pip install --upgrade pip' command.\u001b[0m\n",
      "Note: you may need to restart the kernel to use updated packages.\n"
     ]
    }
   ],
   "source": [
    "pip install openpyxl"
   ]
  },
  {
   "cell_type": "code",
   "execution_count": 9,
   "id": "c5d51d1e",
   "metadata": {
    "scrolled": true
   },
   "outputs": [],
   "source": [
    "import numpy as np\n",
    "import pandas as pd"
   ]
  },
  {
   "cell_type": "code",
   "execution_count": 10,
   "id": "ac6872d9",
   "metadata": {},
   "outputs": [],
   "source": [
    "customers = pd.read_excel('/Users/annadvoskina/projects/Pyhon_for_Data_Analytics/datasets/customers.xlsx')"
   ]
  },
  {
   "cell_type": "code",
   "execution_count": 12,
   "id": "79463330",
   "metadata": {},
   "outputs": [],
   "source": [
    "customers2 = pd.read_excel('/Users/annadvoskina/projects/Pyhon_for_Data_Analytics/datasets/customers.xlsx')"
   ]
  },
  {
   "cell_type": "code",
   "execution_count": 14,
   "id": "33f1ba43",
   "metadata": {},
   "outputs": [],
   "source": [
    "customers_total = pd.concat([customers,customers2])"
   ]
  },
  {
   "cell_type": "code",
   "execution_count": 15,
   "id": "6d48abb5",
   "metadata": {},
   "outputs": [
    {
     "data": {
      "text/plain": [
       "<bound method NDFrame.describe of      customer_id  year_of_birth  educational_level marital_status  \\\n",
       "0       20201701            1982        Graduation         Single   \n",
       "1       20201702            1950        Graduation        Married   \n",
       "2       20201703            1965        Graduation       Divorced   \n",
       "3       20201704            1984        Graduation   Relationship   \n",
       "4       20201705            1981               PhD        Widowed   \n",
       "..           ...             ...               ...            ...   \n",
       "494     20202195            1944               PhD       Divorced   \n",
       "495     20202196            1962            Master       Divorced   \n",
       "496     20202197            1978        Graduation       Divorced   \n",
       "497     20202198            1971               PhD   Relationship   \n",
       "498     20202199            1949               PhD   Relationship   \n",
       "\n",
       "     annual_income        purhcase_date  recency  online_purchases  \\\n",
       "0          58138.0  2012-04-09 00:00:00       58                 8   \n",
       "1          46344.0  2014-08-03 00:00:00       38                 1   \n",
       "2          71613.0            8/21/2013       26                 8   \n",
       "3          26646.0  2014-10-02 00:00:00       26                 2   \n",
       "4          58293.0            1/19/2014       94                 5   \n",
       "..             ...                  ...      ...               ...   \n",
       "494        55614.0           11/27/2013       85                 9   \n",
       "495        59432.0            4/13/2013       88                 5   \n",
       "496        55563.0  2014-05-04 00:00:00       22                 2   \n",
       "497        43624.0            4/21/2013       83                 4   \n",
       "498        41461.0            5/22/2014       63                 6   \n",
       "\n",
       "     store_purchases  complaints  calls  intercoms  \n",
       "0                  4           0      3         11  \n",
       "1                  2           0      3         11  \n",
       "2                 10           0      3         11  \n",
       "3                  4           0      3         11  \n",
       "4                  6           0      3         11  \n",
       "..               ...         ...    ...        ...  \n",
       "494                6           0      3         11  \n",
       "495               11           0      3         11  \n",
       "496                3           0      3         11  \n",
       "497                4           0      6         11  \n",
       "498               11           0      6         11  \n",
       "\n",
       "[998 rows x 12 columns]>"
      ]
     },
     "execution_count": 15,
     "metadata": {},
     "output_type": "execute_result"
    }
   ],
   "source": [
    "customers_total.describe"
   ]
  },
  {
   "cell_type": "code",
   "execution_count": 17,
   "id": "8003a8e8",
   "metadata": {
    "scrolled": true
   },
   "outputs": [
    {
     "data": {
      "text/html": [
       "<div>\n",
       "<style scoped>\n",
       "    .dataframe tbody tr th:only-of-type {\n",
       "        vertical-align: middle;\n",
       "    }\n",
       "\n",
       "    .dataframe tbody tr th {\n",
       "        vertical-align: top;\n",
       "    }\n",
       "\n",
       "    .dataframe thead th {\n",
       "        text-align: right;\n",
       "    }\n",
       "</style>\n",
       "<table border=\"1\" class=\"dataframe\">\n",
       "  <thead>\n",
       "    <tr style=\"text-align: right;\">\n",
       "      <th></th>\n",
       "      <th>customer_id</th>\n",
       "      <th>year_of_birth</th>\n",
       "      <th>educational_level</th>\n",
       "      <th>marital_status</th>\n",
       "      <th>annual_income</th>\n",
       "      <th>purhcase_date</th>\n",
       "      <th>recency</th>\n",
       "      <th>online_purchases</th>\n",
       "      <th>store_purchases</th>\n",
       "      <th>complaints</th>\n",
       "      <th>calls</th>\n",
       "      <th>intercoms</th>\n",
       "    </tr>\n",
       "  </thead>\n",
       "  <tbody>\n",
       "    <tr>\n",
       "      <th>55</th>\n",
       "      <td>20201756</td>\n",
       "      <td>1955</td>\n",
       "      <td>Master</td>\n",
       "      <td>Married</td>\n",
       "      <td>82384.0</td>\n",
       "      <td>11/19/2012</td>\n",
       "      <td>55</td>\n",
       "      <td>3</td>\n",
       "      <td>13</td>\n",
       "      <td>0</td>\n",
       "      <td>3</td>\n",
       "      <td>11</td>\n",
       "    </tr>\n",
       "    <tr>\n",
       "      <th>388</th>\n",
       "      <td>20202089</td>\n",
       "      <td>2000</td>\n",
       "      <td>Graduation</td>\n",
       "      <td>Relationship</td>\n",
       "      <td>38823.0</td>\n",
       "      <td>8/30/2012</td>\n",
       "      <td>56</td>\n",
       "      <td>2</td>\n",
       "      <td>3</td>\n",
       "      <td>0</td>\n",
       "      <td>3</td>\n",
       "      <td>11</td>\n",
       "    </tr>\n",
       "    <tr>\n",
       "      <th>124</th>\n",
       "      <td>20201825</td>\n",
       "      <td>1957</td>\n",
       "      <td>Graduation</td>\n",
       "      <td>Single</td>\n",
       "      <td>101970.0</td>\n",
       "      <td>2013-12-03 00:00:00</td>\n",
       "      <td>69</td>\n",
       "      <td>6</td>\n",
       "      <td>13</td>\n",
       "      <td>0</td>\n",
       "      <td>3</td>\n",
       "      <td>11</td>\n",
       "    </tr>\n",
       "    <tr>\n",
       "      <th>172</th>\n",
       "      <td>20201873</td>\n",
       "      <td>1987</td>\n",
       "      <td>Graduation</td>\n",
       "      <td>Single</td>\n",
       "      <td>50447.0</td>\n",
       "      <td>4/21/2014</td>\n",
       "      <td>4</td>\n",
       "      <td>3</td>\n",
       "      <td>3</td>\n",
       "      <td>0</td>\n",
       "      <td>3</td>\n",
       "      <td>2</td>\n",
       "    </tr>\n",
       "    <tr>\n",
       "      <th>412</th>\n",
       "      <td>20202113</td>\n",
       "      <td>1994</td>\n",
       "      <td>PhD</td>\n",
       "      <td>Widowed</td>\n",
       "      <td>66465.0</td>\n",
       "      <td>3/30/2013</td>\n",
       "      <td>1</td>\n",
       "      <td>11</td>\n",
       "      <td>12</td>\n",
       "      <td>0</td>\n",
       "      <td>3</td>\n",
       "      <td>11</td>\n",
       "    </tr>\n",
       "  </tbody>\n",
       "</table>\n",
       "</div>"
      ],
      "text/plain": [
       "     customer_id  year_of_birth  educational_level marital_status  \\\n",
       "55      20201756            1955            Master        Married   \n",
       "388     20202089            2000        Graduation   Relationship   \n",
       "124     20201825            1957        Graduation         Single   \n",
       "172     20201873            1987        Graduation         Single   \n",
       "412     20202113            1994               PhD        Widowed   \n",
       "\n",
       "     annual_income        purhcase_date  recency  online_purchases  \\\n",
       "55         82384.0           11/19/2012       55                 3   \n",
       "388        38823.0            8/30/2012       56                 2   \n",
       "124       101970.0  2013-12-03 00:00:00       69                 6   \n",
       "172        50447.0            4/21/2014        4                 3   \n",
       "412        66465.0            3/30/2013        1                11   \n",
       "\n",
       "     store_purchases  complaints  calls  intercoms  \n",
       "55                13           0      3         11  \n",
       "388                3           0      3         11  \n",
       "124               13           0      3         11  \n",
       "172                3           0      3          2  \n",
       "412               12           0      3         11  "
      ]
     },
     "execution_count": 17,
     "metadata": {},
     "output_type": "execute_result"
    }
   ],
   "source": [
    "customers.sample(5)"
   ]
  },
  {
   "cell_type": "code",
   "execution_count": 40,
   "id": "94ad92fa",
   "metadata": {},
   "outputs": [],
   "source": [
    "customers_agg = customers.pivot_table(index=['educational_level','marital_status'],values='annual_income',aggfunc='sum')"
   ]
  },
  {
   "cell_type": "code",
   "execution_count": 41,
   "id": "52e14d5b",
   "metadata": {
    "scrolled": true
   },
   "outputs": [],
   "source": [
    "customers_agg.sort_values(by=['annual_income'], ascending=False, inplace=True)"
   ]
  },
  {
   "cell_type": "code",
   "execution_count": 48,
   "id": "140a6393",
   "metadata": {},
   "outputs": [],
   "source": [
    "customers_filtered=customers[customers['educational_level'] == 'Graduation']"
   ]
  },
  {
   "cell_type": "code",
   "execution_count": 53,
   "id": "611b83e1",
   "metadata": {},
   "outputs": [],
   "source": [
    "customers_filtered_agg=customers_filtered.pivot_table(index=['educational_level','marital_status'],values='annual_income',aggfunc='sum')\\\n",
    "    .sort_values(by=['annual_income'], ascending=False)"
   ]
  },
  {
   "cell_type": "code",
   "execution_count": 54,
   "id": "d4fa8ce6",
   "metadata": {
    "scrolled": true
   },
   "outputs": [
    {
     "data": {
      "text/html": [
       "<div>\n",
       "<style scoped>\n",
       "    .dataframe tbody tr th:only-of-type {\n",
       "        vertical-align: middle;\n",
       "    }\n",
       "\n",
       "    .dataframe tbody tr th {\n",
       "        vertical-align: top;\n",
       "    }\n",
       "\n",
       "    .dataframe thead th {\n",
       "        text-align: right;\n",
       "    }\n",
       "</style>\n",
       "<table border=\"1\" class=\"dataframe\">\n",
       "  <thead>\n",
       "    <tr style=\"text-align: right;\">\n",
       "      <th></th>\n",
       "      <th></th>\n",
       "      <th>annual_income</th>\n",
       "    </tr>\n",
       "    <tr>\n",
       "      <th>educational_level</th>\n",
       "      <th>marital_status</th>\n",
       "      <th></th>\n",
       "    </tr>\n",
       "  </thead>\n",
       "  <tbody>\n",
       "    <tr>\n",
       "      <th rowspan=\"6\" valign=\"top\">Graduation</th>\n",
       "      <th>Married</th>\n",
       "      <td>3223917.0</td>\n",
       "    </tr>\n",
       "    <tr>\n",
       "      <th>Single</th>\n",
       "      <td>2999727.0</td>\n",
       "    </tr>\n",
       "    <tr>\n",
       "      <th>Relationship</th>\n",
       "      <td>2611266.0</td>\n",
       "    </tr>\n",
       "    <tr>\n",
       "      <th>Divorced</th>\n",
       "      <td>2517509.0</td>\n",
       "    </tr>\n",
       "    <tr>\n",
       "      <th>Widowed</th>\n",
       "      <td>1305540.0</td>\n",
       "    </tr>\n",
       "    <tr>\n",
       "      <th>Widow</th>\n",
       "      <td>192390.0</td>\n",
       "    </tr>\n",
       "  </tbody>\n",
       "</table>\n",
       "</div>"
      ],
      "text/plain": [
       "                                  annual_income\n",
       "educational_level marital_status               \n",
       "Graduation        Married             3223917.0\n",
       "                  Single              2999727.0\n",
       "                  Relationship        2611266.0\n",
       "                  Divorced            2517509.0\n",
       "                  Widowed             1305540.0\n",
       "                  Widow                192390.0"
      ]
     },
     "execution_count": 54,
     "metadata": {},
     "output_type": "execute_result"
    }
   ],
   "source": [
    "customers_filtered_agg"
   ]
  },
  {
   "cell_type": "code",
   "execution_count": 55,
   "id": "6b8fe06d",
   "metadata": {},
   "outputs": [],
   "source": [
    "exclude=['Widow','Widowed']"
   ]
  },
  {
   "cell_type": "code",
   "execution_count": 56,
   "id": "8bfe64f4",
   "metadata": {},
   "outputs": [],
   "source": [
    "customers_filtered_exclude=customers[-customers['marital_status'].isin(exclude)]"
   ]
  },
  {
   "cell_type": "code",
   "execution_count": 58,
   "id": "c171a213",
   "metadata": {},
   "outputs": [],
   "source": [
    "customers_filtered_exclude_agg=customers_filtered_exclude.pivot_table(index=['educational_level','marital_status'],values='annual_income',aggfunc='sum')"
   ]
  },
  {
   "cell_type": "code",
   "execution_count": 63,
   "id": "dee4b164",
   "metadata": {},
   "outputs": [],
   "source": [
    "customers_filtered_exclude_agg=customers_filtered_exclude_agg.sort_values(['educational_level','annual_income'])"
   ]
  },
  {
   "cell_type": "code",
   "execution_count": 64,
   "id": "72f8b3a6",
   "metadata": {
    "scrolled": true
   },
   "outputs": [
    {
     "data": {
      "text/html": [
       "<div>\n",
       "<style scoped>\n",
       "    .dataframe tbody tr th:only-of-type {\n",
       "        vertical-align: middle;\n",
       "    }\n",
       "\n",
       "    .dataframe tbody tr th {\n",
       "        vertical-align: top;\n",
       "    }\n",
       "\n",
       "    .dataframe thead th {\n",
       "        text-align: right;\n",
       "    }\n",
       "</style>\n",
       "<table border=\"1\" class=\"dataframe\">\n",
       "  <thead>\n",
       "    <tr style=\"text-align: right;\">\n",
       "      <th></th>\n",
       "      <th></th>\n",
       "      <th>annual_income</th>\n",
       "    </tr>\n",
       "    <tr>\n",
       "      <th>educational_level</th>\n",
       "      <th>marital_status</th>\n",
       "      <th></th>\n",
       "    </tr>\n",
       "  </thead>\n",
       "  <tbody>\n",
       "    <tr>\n",
       "      <th rowspan=\"3\" valign=\"top\">Basic</th>\n",
       "      <th>Single</th>\n",
       "      <td>24882.0</td>\n",
       "    </tr>\n",
       "    <tr>\n",
       "      <th>Relationship</th>\n",
       "      <td>49329.0</td>\n",
       "    </tr>\n",
       "    <tr>\n",
       "      <th>Divorced</th>\n",
       "      <td>62391.0</td>\n",
       "    </tr>\n",
       "    <tr>\n",
       "      <th rowspan=\"4\" valign=\"top\">Graduation</th>\n",
       "      <th>Divorced</th>\n",
       "      <td>2517509.0</td>\n",
       "    </tr>\n",
       "    <tr>\n",
       "      <th>Relationship</th>\n",
       "      <td>2611266.0</td>\n",
       "    </tr>\n",
       "    <tr>\n",
       "      <th>Single</th>\n",
       "      <td>2999727.0</td>\n",
       "    </tr>\n",
       "    <tr>\n",
       "      <th>Married</th>\n",
       "      <td>3223917.0</td>\n",
       "    </tr>\n",
       "    <tr>\n",
       "      <th rowspan=\"4\" valign=\"top\">High School</th>\n",
       "      <th>Divorced</th>\n",
       "      <td>148450.0</td>\n",
       "    </tr>\n",
       "    <tr>\n",
       "      <th>Single</th>\n",
       "      <td>242259.0</td>\n",
       "    </tr>\n",
       "    <tr>\n",
       "      <th>Married</th>\n",
       "      <td>581213.0</td>\n",
       "    </tr>\n",
       "    <tr>\n",
       "      <th>Relationship</th>\n",
       "      <td>670471.0</td>\n",
       "    </tr>\n",
       "    <tr>\n",
       "      <th rowspan=\"4\" valign=\"top\">Master</th>\n",
       "      <th>Divorced</th>\n",
       "      <td>563755.0</td>\n",
       "    </tr>\n",
       "    <tr>\n",
       "      <th>Relationship</th>\n",
       "      <td>874110.0</td>\n",
       "    </tr>\n",
       "    <tr>\n",
       "      <th>Married</th>\n",
       "      <td>1003400.0</td>\n",
       "    </tr>\n",
       "    <tr>\n",
       "      <th>Single</th>\n",
       "      <td>1193790.0</td>\n",
       "    </tr>\n",
       "    <tr>\n",
       "      <th rowspan=\"4\" valign=\"top\">PhD</th>\n",
       "      <th>Single</th>\n",
       "      <td>1027665.0</td>\n",
       "    </tr>\n",
       "    <tr>\n",
       "      <th>Divorced</th>\n",
       "      <td>1069793.0</td>\n",
       "    </tr>\n",
       "    <tr>\n",
       "      <th>Married</th>\n",
       "      <td>1220833.0</td>\n",
       "    </tr>\n",
       "    <tr>\n",
       "      <th>Relationship</th>\n",
       "      <td>1740590.0</td>\n",
       "    </tr>\n",
       "  </tbody>\n",
       "</table>\n",
       "</div>"
      ],
      "text/plain": [
       "                                  annual_income\n",
       "educational_level marital_status               \n",
       "Basic             Single                24882.0\n",
       "                  Relationship          49329.0\n",
       "                  Divorced              62391.0\n",
       "Graduation        Divorced            2517509.0\n",
       "                  Relationship        2611266.0\n",
       "                  Single              2999727.0\n",
       "                  Married             3223917.0\n",
       "High School       Divorced             148450.0\n",
       "                  Single               242259.0\n",
       "                  Married              581213.0\n",
       "                  Relationship         670471.0\n",
       "Master            Divorced             563755.0\n",
       "                  Relationship         874110.0\n",
       "                  Married             1003400.0\n",
       "                  Single              1193790.0\n",
       "PhD               Single              1027665.0\n",
       "                  Divorced            1069793.0\n",
       "                  Married             1220833.0\n",
       "                  Relationship        1740590.0"
      ]
     },
     "execution_count": 64,
     "metadata": {},
     "output_type": "execute_result"
    }
   ],
   "source": [
    "customers_filtered_exclude_agg"
   ]
  },
  {
   "cell_type": "code",
   "execution_count": 65,
   "id": "09c9c72b",
   "metadata": {},
   "outputs": [
    {
     "data": {
      "text/plain": [
       "MultiIndex([(      'Basic',       'Single'),\n",
       "            (      'Basic', 'Relationship'),\n",
       "            (      'Basic',     'Divorced'),\n",
       "            ( 'Graduation',     'Divorced'),\n",
       "            ( 'Graduation', 'Relationship'),\n",
       "            ( 'Graduation',       'Single'),\n",
       "            ( 'Graduation',      'Married'),\n",
       "            ('High School',     'Divorced'),\n",
       "            ('High School',       'Single'),\n",
       "            ('High School',      'Married'),\n",
       "            ('High School', 'Relationship'),\n",
       "            (     'Master',     'Divorced'),\n",
       "            (     'Master', 'Relationship'),\n",
       "            (     'Master',      'Married'),\n",
       "            (     'Master',       'Single'),\n",
       "            (        'PhD',       'Single'),\n",
       "            (        'PhD',     'Divorced'),\n",
       "            (        'PhD',      'Married'),\n",
       "            (        'PhD', 'Relationship')],\n",
       "           names=['educational_level', 'marital_status'])"
      ]
     },
     "execution_count": 65,
     "metadata": {},
     "output_type": "execute_result"
    }
   ],
   "source": [
    "customers_filtered_exclude_agg.index"
   ]
  },
  {
   "cell_type": "markdown",
   "id": "b4dbf7d9",
   "metadata": {},
   "source": [
    "now out index is complex (see above) but we can apply to index using only one field for example marital status"
   ]
  },
  {
   "cell_type": "code",
   "execution_count": 70,
   "id": "d6bf8833",
   "metadata": {
    "scrolled": true
   },
   "outputs": [
    {
     "data": {
      "text/plain": [
       "array([False,  True, False, False,  True, False, False, False, False,\n",
       "       False,  True, False,  True, False, False, False, False, False,\n",
       "        True])"
      ]
     },
     "execution_count": 70,
     "metadata": {},
     "output_type": "execute_result"
    }
   ],
   "source": [
    "customers_filtered_exclude_agg.index.get_level_values('marital_status') == 'Relationship'"
   ]
  },
  {
   "cell_type": "code",
   "execution_count": null,
   "id": "79315e8b",
   "metadata": {},
   "outputs": [],
   "source": []
  }
 ],
 "metadata": {
  "kernelspec": {
   "display_name": "Python 3 (ipykernel)",
   "language": "python",
   "name": "python3"
  },
  "language_info": {
   "codemirror_mode": {
    "name": "ipython",
    "version": 3
   },
   "file_extension": ".py",
   "mimetype": "text/x-python",
   "name": "python",
   "nbconvert_exporter": "python",
   "pygments_lexer": "ipython3",
   "version": "3.9.12"
  }
 },
 "nbformat": 4,
 "nbformat_minor": 5
}
